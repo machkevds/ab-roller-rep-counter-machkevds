{
  "nbformat": 4,
  "nbformat_minor": 0,
  "metadata": {
    "colab": {
      "provenance": [],
      "authorship_tag": "ABX9TyPu0ZA/DH20nTkcjGFy+79K"
    },
    "kernelspec": {
      "name": "python3",
      "display_name": "Python 3"
    },
    "language_info": {
      "name": "python"
    }
  },
  "cells": [
    {
      "cell_type": "code",
      "execution_count": null,
      "metadata": {
        "id": "XYb8rlG-aFZw"
      },
      "outputs": [],
      "source": []
    },
    {
      "cell_type": "markdown",
      "source": [
        "Ab Roller Counter\n",
        "\n",
        "Notes: Use OpenCV and MediaPipe to draw landmarks and connections, this will be based off that push-up counter project."
      ],
      "metadata": {
        "id": "uGXzXE0Mr3Gy"
      }
    },
    {
      "cell_type": "code",
      "source": [],
      "metadata": {
        "id": "r4Ng8vrNr6En"
      },
      "execution_count": null,
      "outputs": []
    }
  ]
}